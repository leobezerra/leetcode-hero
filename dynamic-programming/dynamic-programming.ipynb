{
  "nbformat": 4,
  "nbformat_minor": 0,
  "metadata": {
    "colab": {
      "name": "ProgramaçãoDinâmica.ipynb",
      "provenance": [],
      "collapsed_sections": []
    },
    "kernelspec": {
      "name": "python3",
      "display_name": "Python 3"
    }
  },
  "cells": [
    {
      "cell_type": "markdown",
      "metadata": {
        "id": "lKPOujAnk9js",
        "colab_type": "text"
      },
      "source": [
        "# Programação Dinâmica\n",
        "\n",
        "Programação dinâmica pode ser descrita como recursão com o apoio de uma tabela. Mais precisamente, ao invés de resolver os subproblemas recursivamente, esses subproblemas são resolvidos sequencialmente e as suas soluções são armazenadas em uma tabela.\n",
        "\n",
        "O truque para esse tipo de resolução é resolver os problemas na ordem certa, assim, sempre que você precisar de uma solução para um subproblema, ele já estará disponível na tabela.\n",
        "\n",
        "A utilidade da programação dinâmica é em problemas que a divisão e conquista produz um número exponencial de subproblemas e na verdade o que ocorre é a repetição de um pequeno número de subproblemas com frequência. Logo, nessas situações, calcula-se cada solução na primeira vez e as armazena em uma tabela para uso futuro, em vez sempre recalcular as soluções recursivamente quando for necessário.\n",
        "\n",
        "Enquanto a divisão e conquista é top-down, a programação dinâmica é bottom-up. Em resumo, com PD resolve-se os problemas de pequena\n",
        "dimensão e guarda-se as soluções. A solução de um problema é\n",
        "obtida combinando as de problemas de menor dimensão. "
      ]
    },
    {
      "cell_type": "markdown",
      "metadata": {
        "id": "Mf6jUayY69KK",
        "colab_type": "text"
      },
      "source": [
        "-----------------------"
      ]
    },
    {
      "cell_type": "markdown",
      "metadata": {
        "id": "13lYtLO9nnJx",
        "colab_type": "text"
      },
      "source": [
        "Para exemplificar, vamos a um exemplo básico:"
      ]
    },
    {
      "cell_type": "code",
      "metadata": {
        "id": "gnit9uI_UPAT",
        "colab_type": "code",
        "colab": {}
      },
      "source": [
        "def fibonacci (numero):\n",
        "    \n",
        "    if numero <= 1:\n",
        "        return numero\n",
        "    else:\n",
        "        return fibonacci(numero - 1) + fibonacci(numero - 2)"
      ],
      "execution_count": 0,
      "outputs": []
    },
    {
      "cell_type": "markdown",
      "metadata": {
        "id": "tazzPwzkohj0",
        "colab_type": "text"
      },
      "source": [
        "Acima nós temos uma implementação clássica do algoritmo de fibonacci, onde você calcula o fibonacci de um número através do fibonacci dos dois números anteriores a ele. Agora vamos a uma implementação com programação dinâmica."
      ]
    },
    {
      "cell_type": "code",
      "metadata": {
        "id": "qjFFL2e1owQx",
        "colab_type": "code",
        "colab": {}
      },
      "source": [
        "def fibonacci_pd (numero):\n",
        "\n",
        "    # Aqui nós definimos nossa estrutura, que trabalhará como uma \"memória\" com o fibonacci dos números já computados\n",
        "    fib = [0, 1]\n",
        "\n",
        "    for temp_num in range(2, numero + 1):\n",
        "        \n",
        "        fib.append(fib[temp_num - 1] + fib[temp_num - 2])\n",
        "\n",
        "    return fib[numero]"
      ],
      "execution_count": 0,
      "outputs": []
    },
    {
      "cell_type": "markdown",
      "metadata": {
        "id": "rP9pazHOpZdN",
        "colab_type": "text"
      },
      "source": [
        "Agora vamos medir o tempo em que cada uma de nossas funções demora para calcular o fibonacci do número 40"
      ]
    },
    {
      "cell_type": "code",
      "metadata": {
        "id": "ws97zybgpqC_",
        "colab_type": "code",
        "outputId": "47220d2c-aaba-4488-e192-13faa79867a1",
        "colab": {
          "base_uri": "https://localhost:8080/",
          "height": 34
        }
      },
      "source": [
        "import time\n",
        "\n",
        "start_time = time.clock()\n",
        "fibonacci(40)\n",
        "print(\"{} segundos\".format(time.clock() - start_time))"
      ],
      "execution_count": 0,
      "outputs": [
        {
          "output_type": "stream",
          "text": [
            "35.759142999999995 segundos\n"
          ],
          "name": "stdout"
        }
      ]
    },
    {
      "cell_type": "code",
      "metadata": {
        "id": "-nhCIMm1t3aq",
        "colab_type": "code",
        "outputId": "4adbde32-485e-42d9-a8bb-5c1f3ba238d6",
        "colab": {
          "base_uri": "https://localhost:8080/",
          "height": 34
        }
      },
      "source": [
        "start_time = time.clock()\n",
        "fibonacci_pd(40)\n",
        "print(\"{} segundos\".format(time.clock() - start_time))"
      ],
      "execution_count": 0,
      "outputs": [
        {
          "output_type": "stream",
          "text": [
            "0.00013999999987390765 segundos\n"
          ],
          "name": "stdout"
        }
      ]
    },
    {
      "cell_type": "markdown",
      "metadata": {
        "id": "94mAV71AvJZO",
        "colab_type": "text"
      },
      "source": [
        <img src="https://miro.medium.com/max/884/1*-2A-7KhNxdR6WpC6_3BB8Q.png" />
      ]
    },
    {
      "cell_type": "markdown",
      "metadata": {
        "id": "7oNn_QGMvHnp",
        "colab_type": "text"
      },
      "source": [
        "Como podemos ver na imagem acima, o que acontece é que, no primeiro exemplo, vários números tem o seu fibonacci calculado repetidamente (veja o caso do número 2 e 3), e o que a programação dinâmica nos entrega é uma forma de armazenar esses dados, afim de melhorar a complexidade assintótica de nosso algoritmo."
      ]
    },
    {
      "cell_type": "markdown",
      "metadata": {
        "id": "S4YkJspc7CVc",
        "colab_type": "text"
      },
      "source": [
        "--------------------"
      ]
    },
    {
      "cell_type": "markdown",
      "metadata": {
        "id": "GcPNYtge2Xf_",
        "colab_type": "text"
      },
      "source": [
        "##Exemplos"
      ]
    },
    {
      "cell_type": "markdown",
      "metadata": {
        "id": "vCMC8_ZW2cJB",
        "colab_type": "text"
      },
      "source": [
        "Agora vamos aos exemplos, começando pela questão 303 do LeetCode, que pode ser encontrada no link a seguir:\n",
        "- https://leetcode.com/problems/range-sum-query-immutable/"
      ]
    },
    {
      "cell_type": "markdown",
      "metadata": {
        "id": "ksBVY02K2pvf",
        "colab_type": "text"
      },
      "source": [
        "303. Dado um array de números inteiros, encontre a soma dos elementos entre os índices i e j (i ≤ j), de forma inclusiva."
      ]
    },
    {
      "cell_type": "code",
      "metadata": {
        "id": "fO-tQlHO279-",
        "colab_type": "code",
        "colab": {}
      },
      "source": [
        "class NumArray:\n",
        "\n",
        "    _sum_list = None\n",
        "    \n",
        "    def __init__(self, nums: List[int]):\n",
        "        \n",
        "        self._sum_list = list()\n",
        "        \n",
        "        for index in range(len(nums) + 1):\n",
        "            num = nums[index - 1] if index > 0 else 0\n",
        "            \n",
        "            if index >= 1:\n",
        "                self._sum_list.append(self._sum_list[index - 1] + num)\n",
        "            else:\n",
        "                self._sum_list.append(num)\n",
        "            \n",
        "\n",
        "    def sumRange(self, i: int, j: int) -> int:\n",
        "        \n",
        "        return self._sum_list[j + 1] - self._sum_list[i]\n"
      ],
      "execution_count": 0,
      "outputs": []
    },
    {
      "cell_type": "markdown",
      "metadata": {
        "id": "uohLTTRm3APt",
        "colab_type": "text"
      },
      "source": [
        "O problema dessa questão está no fato que o método sumRange será chamado várias vezes, fazendo com que seja necessário recalcular a soma entre as posições várias vezes, de tal forma que a complexidade assintótica depende da quantidade de vezes que o método sumRange é chamado. Exemplificando:\n",
        "- Caso o método seja chamado n vezes, sendo n o tamanho do array de nums, a complexidade desse problema seria de O(n * n), no pior caso."
      ]
    },
    {
      "cell_type": "markdown",
      "metadata": {
        "id": "pJ5xerjV38A1",
        "colab_type": "text"
      },
      "source": [
        "Para contornar esse problema, nós fazemos um processamento inicial, calculando a soma de todas as posições em relação aos seus anteriores, totalizando assim uma complexidade assintótica de O(n)."
      ]
    },
    {
      "cell_type": "markdown",
      "metadata": {
        "id": "xphnVzdF43z5",
        "colab_type": "text"
      },
      "source": [
        "Esse procedimento é necessário para criar uma \"memória\" das somas, de tal forma que, quando seja necessário calcular a soma entre as posições i e j, esse cálculo seja realizado de forma constante, ou seja, em O(1)."
      ]
    },
    {
      "cell_type": "markdown",
      "metadata": {
        "id": "gJjXfyqD4U2L",
        "colab_type": "text"
      },
      "source": [
        "------------"
      ]
    },
    {
      "cell_type": "markdown",
      "metadata": {
        "id": "ivlMoYW95WlY",
        "colab_type": "text"
      },
      "source": [
        "Partindo agora para resolução de problemas mais complexos, vamos resolver a questão 62, que pode ser encontrada no link a seguir:\n",
        "- https://leetcode.com/problems/unique-paths/"
      ]
    },
    {
      "cell_type": "markdown",
      "metadata": {
        "id": "YEbr0IAn55u3",
        "colab_type": "text"
      },
      "source": [
        "62. Um robô está localizado no canto superior esquerdo de uma matriz m x n. Ele só pode se mover ou para baixo ou para direita. O robô está tentando chegar ao canto inferiror direito da matriz. Nós devemos calcular a quantidade de caminhos únicos que o robô pode tomar.\n"
      ]
    },
    {
      "cell_type": "code",
      "metadata": {
        "id": "eIpuxYgm6mRr",
        "colab_type": "code",
        "colab": {}
      },
      "source": [
        "class Solution:\n",
        "\n",
        "    def uniquePaths(self, m: int, n: int) -> int:\n",
        "        # Iniciamos os caminhos possíveis com 1, pois em uma matriz de 1 x 1, o robô só possui um caminho a tomar\n",
        "        possible_paths = [[1 for col in range(m)] for row in range(n)]\n",
        "        \n",
        "        for a in range(1, n):\n",
        "            for b in range(1, m):\n",
        "                possible_paths[a][b] = possible_paths[a - 1][b] + possible_paths[a][b - 1]\n",
        "                \n",
        "        return possible_paths[n - 1][m - 1]"
      ],
      "execution_count": 0,
      "outputs": []
    },
    {
      "cell_type": "markdown",
      "metadata": {
        "id": "sCK_x0AX64IQ",
        "colab_type": "text"
      },
      "source": [
        "Esse problema pode ser considerado como um exemplo clássico do uso de programação dinâmica, uma vez que, pensando na forma recursiva, nós temos que a quantidade de caminhos que o robô pode tomar é igual a quantidade de caminhos tanto a esquerda quanto acima, uma vez que estamos falando de uma matriz em 2D. O que poderia nos levar a seguinte resolução:"
      ]
    },
    {
      "cell_type": "code",
      "metadata": {
        "id": "T-kwDSDw8pnV",
        "colab_type": "code",
        "colab": {}
      },
      "source": [
        "def caminhosUnicos(m, n):\n",
        "    if m == 1 and n == 1:\n",
        "        return 1\n",
        "    if m == 0 or n == 0:\n",
        "        return 0\n",
        "    return caminhosUnicos(m - 1, n) + caminhosUnicos(m, n - 1)"
      ],
      "execution_count": 0,
      "outputs": []
    },
    {
      "cell_type": "markdown",
      "metadata": {
        "id": "LJxfnZbw9UiG",
        "colab_type": "text"
      },
      "source": [
        "Porém, como nós já vimos, essa resolução nos leva ao problema do re-processamento desnecessário, de tal forma que certos elementos no espaço serão recalculados várias vezes, liderando a uma complexidade exponencial."
      ]
    },
    {
      "cell_type": "markdown",
      "metadata": {
        "id": "9wcefjqd9keq",
        "colab_type": "text"
      },
      "source": [
        "Para tal, nós chegamos ao código mostrado na primeira célula, onde usamos uma matriz para armazenar os possíveis caminhos, seguindo de forma iterativa até termos preenchido toda a matriz com os possíveis caminhos, diminuindo a complexidade assintótica do problema de exponencial para O(n * m)."
      ]
    },
    {
      "cell_type": "markdown",
      "metadata": {
        "id": "FOYi9gjI64MI",
        "colab_type": "text"
      },
      "source": [
        "--------------------"
      ]
    },
    {
      "cell_type": "markdown",
      "metadata": {
        "id": "5we0q2v4VhNe",
        "colab_type": "text"
      },
      "source": [
        "Caso tenha interesse, a seguir nós listamos a resolução do problema 123, que é um problema do nível difícil e que usa programação dinâmica, seguem os links para o problema a para a resolução, respectivamente:\n",
        "- https://leetcode.com/problems/best-time-to-buy-and-sell-stock-iii/description/\n",
        "- https://leetcode.com/playground/TVPEFDu8\n",
        "- OBS: A resolução foi implementada em C++, então se segure bem na cadeira antes de abrir esse link hahaha."
      ]
    },
    {
      "cell_type": "markdown",
      "metadata": {
        "id": "DBF0WwMEWShr",
        "colab_type": "text"
      },
      "source": [
        "---------"
      ]
    },
    {
      "cell_type": "markdown",
      "metadata": {
        "id": "kUUS8-g07IZC",
        "colab_type": "text"
      },
      "source": [
        "## Colaboradores"
      ]
    },
    {
      "cell_type": "markdown",
      "metadata": {
        "id": "6SzJUVLQs61C",
        "colab_type": "text"
      },
      "source": [
        "* <a href=\"https://github.com/andrewinston/\">André Winston</a> \n",
        "* <a href=\"https://github.com/camiladuartes/\">Camila Duarte</a>\n",
        "* <a href=\"https://github.com/andersonsmed/\">Anderson Medeiros</a>\n",
        "\n"
      ]
    }
  ]
}
